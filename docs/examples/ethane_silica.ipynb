{
 "cells": [
  {
   "cell_type": "code",
   "execution_count": null,
   "metadata": {},
   "outputs": [],
   "source": [
    "from foyer import Forcefield\n",
    "from foyer.tests.utils import get_fn\n",
    "import mbuild as mb\n",
    "from mbuild.examples import Ethane\n",
    "from mbuild.lib.atoms import H\n",
    "from mbuild.lib.bulk_materials import AmorphousSilica"
   ]
  },
  {
   "cell_type": "code",
   "execution_count": null,
   "metadata": {},
   "outputs": [],
   "source": [
    "# Create a silica substrate, capping surface oxygens with hydrogen\n",
    "silica=mb.recipes.SilicaInterface(bulk_silica=AmorphousSilica())\n",
    "silica_substrate=mb.recipes.Monolayer(surface=silica,chains=H(),guest_port_name=\"up\")\n",
    "\n",
    "# Determine the box dimensions dictated by the silica substrate\n",
    "box=mb.Box(mins=[0, 0,max(silica.xyz[:,2])],maxs=silica.periodicity+ [0, 0, 4])\n",
    "\n",
    "# Fill the box with ethane\n",
    "ethane_fluid=mb.fill_box(compound=Ethane(),n_compounds=200,box=box)\n",
    "\n",
    "# Load the forcefields\n",
    "opls_silica=Forcefield(forcefield_files=get_fn(\"oplsaa_with_silica.xml\"))\n",
    "opls_alkane=Forcefield(forcefield_files=get_fn(\"oplsaa_alkane.xml\"))\n",
    "\n",
    "# Apply the forcefields\n",
    "silica_substrate=opls_silica.apply(silica_substrate)\n",
    "ethane_fluid=opls_alkane.apply(ethane_fluid)\n",
    "\n",
    "# Merge the two topologies\n",
    "system=silica_substrate+ethane_fluid\n",
    "\n",
    "# Save the atom-typed system\n",
    "system.save(\"ethane-silica.top\")\n",
    "system.save(\"ethane-silica.gro\")"
   ]
  },
  {
   "cell_type": "code",
   "execution_count": null,
   "metadata": {},
   "outputs": [],
   "source": []
  }
 ],
 "metadata": {
  "kernelspec": {
   "display_name": "Python 3",
   "language": "python",
   "name": "python3"
  },
  "language_info": {
   "codemirror_mode": {
    "name": "ipython",
    "version": 3
   },
   "file_extension": ".py",
   "mimetype": "text/x-python",
   "name": "python",
   "nbconvert_exporter": "python",
   "pygments_lexer": "ipython3",
   "version": "3.5.5"
  }
 },
 "nbformat": 4,
 "nbformat_minor": 2
}
