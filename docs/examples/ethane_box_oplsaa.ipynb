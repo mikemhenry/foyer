{
 "cells": [
  {
   "cell_type": "code",
   "execution_count": null,
   "metadata": {},
   "outputs": [],
   "source": [
    "import mbuild as mb\n",
    "from mbuild.examples import Ethane\n",
    "from foyer.tests.utils import get_fn\n",
    "from foyer import Forcefield"
   ]
  },
  {
   "cell_type": "code",
   "execution_count": null,
   "metadata": {},
   "outputs": [],
   "source": [
### Applying a force field while saving from mBuild
    "# Create the chemical topology\n",
    "ethane_fluid = mb.fill_box(compound=Ethane(), n_compounds=100, box=[2, 2, 2])\n",
    "# Apply and save the topology\n",
    "ethane_fluid.save(\"ethane-box.top\", forcefield_files=get_fn(\"oplsaa_alkane.xml\"))\n",
    "ethane_fluid.save(\"ethane-box.gro\")"
   ]
  },
  {
   "cell_type": "code",
   "execution_count": null,
   "metadata": {},
   "outputs": [],
   "source": [
### Applying a force field directly with foyer
    "# Create the chemical topology\n",
    "ethane_fluid = mb.fill_box(compound=Ethane(), n_compounds=100, box=[2, 2, 2])\n",
    "# Load the forcefield\n",
    "opls_alkane = Forcefield(forcefield_files=get_fn(\"oplsaa_alkane.xml\"))\n",
    "# Apply the forcefield to atom-type\n",
    "ethane_fluid = opls_alkane.apply(ethane_fluid)\n",
    "# Save the atom-typed system\n",
    "ethane_fluid.save(\"ethane-box.top\", overwrite=True)\n",
    "ethane_fluid.save(\"ethane-box.gro\", overwrite=True)"
   ]
  }
 ],
 "metadata": {
  "kernelspec": {
   "display_name": "Python 3",
   "language": "python",
   "name": "python3"
  },
  "language_info": {
   "codemirror_mode": {
    "name": "ipython",
    "version": 3
   },
   "file_extension": ".py",
   "mimetype": "text/x-python",
   "name": "python",
   "nbconvert_exporter": "python",
   "pygments_lexer": "ipython3",
   "version": "3.5.5"
  }
 },
 "nbformat": 4,
 "nbformat_minor": 2
}
